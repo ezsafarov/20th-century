{
 "cells": [
  {
   "cell_type": "code",
   "execution_count": 1,
   "id": "ee1abf6d-9aab-42d9-b8cc-6b38f19115a4",
   "metadata": {},
   "outputs": [
    {
     "name": "stderr",
     "output_type": "stream",
     "text": [
      "[nltk_data] Downloading package stopwords to\n",
      "[nltk_data]     /Users/emilsafarov/nltk_data...\n",
      "[nltk_data]   Package stopwords is already up-to-date!\n",
      "[nltk_data] Downloading package punkt to\n",
      "[nltk_data]     /Users/emilsafarov/nltk_data...\n",
      "[nltk_data]   Package punkt is already up-to-date!\n",
      "[nltk_data] Downloading package averaged_perceptron_tagger to\n",
      "[nltk_data]     /Users/emilsafarov/nltk_data...\n",
      "[nltk_data]   Package averaged_perceptron_tagger is already up-to-\n",
      "[nltk_data]       date!\n"
     ]
    }
   ],
   "source": [
    "from textblob import TextBlob \n",
    "import pandas as pd\n",
    "import seaborn as sns\n",
    "import matplotlib.pyplot as plt\n",
    "import matplotlib\n",
    "import nltk\n",
    "import re\n",
    "nltk.download('stopwords')\n",
    "nltk.download('punkt')\n",
    "nltk.download('averaged_perceptron_tagger')\n",
    "from collections import Counter\n",
    "sns.set()"
   ]
  },
  {
   "cell_type": "code",
   "execution_count": 2,
   "id": "d86a1e62-760a-4aca-b4a6-41f9c077116f",
   "metadata": {},
   "outputs": [],
   "source": [
    "# Environment: I created a new clean environment called '20th_century_v2' using Python 3.10.\n",
    "\n",
    "# Installed Packages: I installed specific versions of the following libraries to match the course:\n",
    "# - textblob==0.17.1 (for sentiment analysis and POS tagging)\n",
    "# - pandas==1.5.1 (for working with dataframes)\n",
    "# - seaborn==0.12.1 (for bar plots and visualizations)\n",
    "# - matplotlib==3.5.3 (for plotting)\n",
    "# - nltk==3.7 (for tokenizing, stop words, and frequency analysis)\n",
    "\n",
    "# Jupyter Kernel: I registered this environment with Jupyter and selected it as the notebook kernel.\n",
    "# The kernel in use is: Python [20th_century_v2]"
   ]
  },
  {
   "cell_type": "code",
   "execution_count": 3,
   "id": "45d9b636-0f39-4b4a-91eb-7383fb09c5cb",
   "metadata": {},
   "outputs": [],
   "source": [
    "with open('timeline_20th_century_v4.txt', 'r', errors='ignore') as file:\n",
    "    data = file.read().replace('\\n', ' ') # getting the scaped data"
   ]
  },
  {
   "cell_type": "code",
   "execution_count": 4,
   "id": "77908c95-5a63-447c-bb73-c36bb2c9ef36",
   "metadata": {},
   "outputs": [
    {
     "name": "stdout",
     "output_type": "stream",
     "text": [
      "1900s - January 1: TheAustralian coloniesfederate.[1] 1900s - January 22:Edward VIIbecame King of England and India afterQueen Victoria's death. 1900s - March 2: ThePlatt Amendmentprovides for Cuban independence in exchange for the withdrawal of American troops. 1900s - June:Emily Hobhousereports on the poor conditions in 45 British internment camps forBoerwomen and children inSouth Africa. 1900s - September 6: The assassination ofWilliam McKinleyushered in office Vice PresidentTheodore Rooseveltafter McKinley's death on September 14. 1900s - September 7: TheEight-Nation Alliancedefeats theBoxer Rebellion, and imposes heavy financial penalties onChina. 1900s - December 10: FirstNobel Prizesawarded. 1900s - December 12:Guglielmo Marconireceived the first transatlantic radio signal. 1900s - January 13: TheUnification of Saudi Arabiabegins. 1900s - May 20:Cubagiven independence by the United States. 1900s - May 31:Second Boer Warends in British victory. 1900s - July 12:Arthur Balfourbecom\n"
     ]
    }
   ],
   "source": [
    "print(data[:1000])  # shows first 1000 characters"
   ]
  },
  {
   "cell_type": "code",
   "execution_count": 7,
   "id": "2e43a736-bd43-4399-8fa8-e061d7fe7ecc",
   "metadata": {},
   "outputs": [],
   "source": [
    "import nltk\n",
    "nltk.data.path.append('/Users/emilsafarov/nltk_data')"
   ]
  }
 ],
 "metadata": {
  "kernelspec": {
   "display_name": "Python [conda env:20th_century]",
   "language": "python",
   "name": "20th_century"
  },
  "language_info": {
   "codemirror_mode": {
    "name": "ipython",
    "version": 3
   },
   "file_extension": ".py",
   "mimetype": "text/x-python",
   "name": "python",
   "nbconvert_exporter": "python",
   "pygments_lexer": "ipython3",
   "version": "3.13.2"
  }
 },
 "nbformat": 4,
 "nbformat_minor": 5
}
