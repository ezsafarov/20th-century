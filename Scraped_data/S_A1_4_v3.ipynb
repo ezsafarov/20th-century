{
 "cells": [
  {
   "cell_type": "code",
   "execution_count": 8,
   "id": "4effc3ac-6ffe-4a9c-b64f-20ff27d4d59e",
   "metadata": {},
   "outputs": [],
   "source": [
    "import requests\n",
    "from bs4 import BeautifulSoup\n",
    "\n",
    "url = \"https://en.wikipedia.org/wiki/Timeline_of_the_20th_century\"\n",
    "response = requests.get(url)\n",
    "soup = BeautifulSoup(response.content, \"html.parser\")"
   ]
  },
  {
   "cell_type": "code",
   "execution_count": 9,
   "id": "839b1d08-ad75-4571-acd2-4cc2186c261c",
   "metadata": {},
   "outputs": [],
   "source": [
    "content_div = soup.find(\"div\", class_=\"mw-parser-output\")\n",
    "elements = content_div.find_all([\"h2\", \"ul\"])"
   ]
  },
  {
   "cell_type": "code",
   "execution_count": 10,
   "id": "c216ea1e-c585-496d-9bba-95c808d3a206",
   "metadata": {},
   "outputs": [
    {
     "name": "stdout",
     "output_type": "stream",
     "text": [
      "150\n"
     ]
    }
   ],
   "source": [
    "print(len(elements))"
   ]
  },
  {
   "cell_type": "code",
   "execution_count": 16,
   "id": "ffc573e2-4cfd-4913-831b-505a11d07543",
   "metadata": {},
   "outputs": [],
   "source": [
    "timeline = []\n",
    "current_year = \"\"\n",
    "\n",
    "for elem in elements:\n",
    "    if elem.name == \"h2\":\n",
    "        a_tag = elem.find(\"a\")\n",
    "        if a_tag:\n",
    "            current_year = a_tag.text.strip()\n",
    "    elif elem.name == \"ul\" and current_year:\n",
    "        for li in elem.find_all(\"li\"):\n",
    "            event = li.get_text(strip=True)\n",
    "            timeline.append(f\"{current_year} - {event}\")"
   ]
  },
  {
   "cell_type": "code",
   "execution_count": 17,
   "id": "8a8470be-fc70-4df7-ba91-6065389eece0",
   "metadata": {},
   "outputs": [
    {
     "name": "stdout",
     "output_type": "stream",
     "text": [
      "1900s - January 1: TheAustralian coloniesfederate.[1]\n",
      "1900s - January 22:Edward VIIbecame King of England and India afterQueen Victoria's death.\n",
      "1900s - March 2: ThePlatt Amendmentprovides for Cuban independence in exchange for the withdrawal of American troops.\n",
      "1900s - June:Emily Hobhousereports on the poor conditions in 45 British internment camps forBoerwomen and children inSouth Africa.\n",
      "1900s - September 6: The assassination ofWilliam McKinleyushered in office Vice PresidentTheodore Rooseveltafter McKinley's death on September 14.\n",
      "1900s - September 7: TheEight-Nation Alliancedefeats theBoxer Rebellion, and imposes heavy financial penalties onChina.\n",
      "1900s - December 10: FirstNobel Prizesawarded.\n",
      "1900s - December 12:Guglielmo Marconireceived the first transatlantic radio signal.\n",
      "1900s - January 13: TheUnification of Saudi Arabiabegins.\n",
      "1900s - May 20:Cubagiven independence by the United States.\n"
     ]
    }
   ],
   "source": [
    "for line in timeline[:10]:\n",
    "    print(line)"
   ]
  },
  {
   "cell_type": "code",
   "execution_count": 18,
   "id": "fa2cc184-c449-4b9b-8a4d-d416ce10ab68",
   "metadata": {},
   "outputs": [
    {
     "data": {
      "text/plain": [
       "1257"
      ]
     },
     "execution_count": 18,
     "metadata": {},
     "output_type": "execute_result"
    }
   ],
   "source": [
    "len(timeline)"
   ]
  },
  {
   "cell_type": "code",
   "execution_count": 19,
   "id": "41da864b-fcdf-4726-a985-cab2e65751c7",
   "metadata": {},
   "outputs": [],
   "source": [
    "with open(\"timeline_20th_century_v4.txt\", \"w\", encoding=\"utf-8\") as f:\n",
    "    for line in timeline:\n",
    "        f.write(line + \"\\n\")"
   ]
  }
 ],
 "metadata": {
  "kernelspec": {
   "display_name": "Python [conda env:20th_century]",
   "language": "python",
   "name": "20th_century"
  },
  "language_info": {
   "codemirror_mode": {
    "name": "ipython",
    "version": 3
   },
   "file_extension": ".py",
   "mimetype": "text/x-python",
   "name": "python",
   "nbconvert_exporter": "python",
   "pygments_lexer": "ipython3",
   "version": "3.13.2"
  }
 },
 "nbformat": 4,
 "nbformat_minor": 5
}
