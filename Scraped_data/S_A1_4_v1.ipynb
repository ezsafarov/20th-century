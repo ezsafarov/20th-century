{
 "cells": [
  {
   "cell_type": "code",
   "execution_count": null,
   "id": "c5144e9c-1cbf-4c86-9512-4d85673c0d8f",
   "metadata": {},
   "outputs": [],
   "source": [
    "# Main task"
   ]
  },
  {
   "cell_type": "code",
   "execution_count": 4,
   "id": "0b2c6fca-e81f-4f55-a79c-bd96381c35e4",
   "metadata": {},
   "outputs": [],
   "source": [
    "import pandas as pd\n",
    "import time\n",
    "from selenium import webdriver\n",
    "from webdriver_manager.chrome import ChromeDriverManager\n",
    "from selenium.webdriver.common.by import By\n",
    "from selenium.webdriver.chrome.service import Service\n",
    "from selenium.webdriver.chrome.options import Options\n",
    "import matplotlib.pyplot as plt\n",
    "import os\n",
    "import logging\n",
    "import requests\n",
    "import bs4"
   ]
  },
  {
   "cell_type": "code",
   "execution_count": 5,
   "id": "dcbafc72-4856-48e8-9140-f3f84660d840",
   "metadata": {
    "scrolled": true
   },
   "outputs": [],
   "source": [
    "from selenium import webdriver\n",
    "from selenium.webdriver.chrome.service import Service\n",
    "from selenium.webdriver.chrome.options import Options\n",
    "\n",
    "chrome_options = Options()\n",
    "chrome_options.add_argument(\"--headless\")\n",
    "chrome_options.add_argument(\"--no-sandbox\")\n",
    "\n",
    "driver_path = \"/Users/emilsafarov/Library/CloudStorage/OneDrive-Personal/CF/CF_S1/1.4/chromedriver-mac-arm64/chromedriver\"\n",
    "service = Service(executable_path=driver_path)\n",
    "driver = webdriver.Chrome(service=service, options=chrome_options)"
   ]
  },
  {
   "cell_type": "code",
   "execution_count": 7,
   "id": "e94f3432-88a0-4a70-a00e-b37bfc38180c",
   "metadata": {},
   "outputs": [],
   "source": [
    "driver.get(\"https://en.wikipedia.org/wiki/Key_events_of_the_20th_century\")\n"
   ]
  },
  {
   "cell_type": "code",
   "execution_count": 9,
   "id": "f852a110-8df2-4a2f-855d-ee2d75c3b1a4",
   "metadata": {},
   "outputs": [],
   "source": [
    "from bs4 import BeautifulSoup\n"
   ]
  },
  {
   "cell_type": "code",
   "execution_count": 10,
   "id": "b160f325-c40b-44a9-b3f0-d0523a33b44b",
   "metadata": {},
   "outputs": [],
   "source": [
    "page_text = driver.page_source\n",
    "soup = BeautifulSoup(page_text, \"html.parser\")\n",
    "text = soup.get_text()\n"
   ]
  },
  {
   "cell_type": "code",
   "execution_count": 13,
   "id": "785e511c-0b8a-4a3d-a758-c5ded3470488",
   "metadata": {},
   "outputs": [],
   "source": [
    "with open(\"timeline_20th_century.txt\", \"w\", encoding=\"utf-8\") as f:\n",
    "    f.write(text)"
   ]
  },
  {
   "cell_type": "code",
   "execution_count": 15,
   "id": "ce043a92-3972-49d5-90d3-24690576c96e",
   "metadata": {},
   "outputs": [
    {
     "name": "stdout",
     "output_type": "stream",
     "text": [
      "-rw-r--r--  1 emilsafarov  staff   111K May 30 12:03 timeline_20th_century.txt\n"
     ]
    }
   ],
   "source": [
    "ls -lh timeline_20th_century.txt\n"
   ]
  },
  {
   "cell_type": "code",
   "execution_count": 16,
   "id": "e839f1d6-febe-422a-8b57-ade940358bef",
   "metadata": {},
   "outputs": [],
   "source": [
    "# Bonus task"
   ]
  },
  {
   "cell_type": "code",
   "execution_count": 17,
   "id": "81fe278e-7da8-4c62-af7a-c4d369775dfb",
   "metadata": {},
   "outputs": [],
   "source": [
    "# Get the countires names\n",
    "\n",
    "page_url_countries = \"https://simple.m.wikipedia.org/wiki/List_of_countries\"\n",
    "driver.get(page_url_countries)"
   ]
  },
  {
   "cell_type": "code",
   "execution_count": 18,
   "id": "cc5bbd9f-e88c-4cf5-ab1a-ab03bbf2d69f",
   "metadata": {},
   "outputs": [
    {
     "name": "stdout",
     "output_type": "stream",
     "text": [
      "['sovereign states', 'Afghanistan', 'Albania', 'Algeria', 'Andorra', 'Angola', 'Antigua and Barbuda', 'Argentina', 'Armenia', 'Australia']\n"
     ]
    }
   ],
   "source": [
    "# Extract all country name links\n",
    "country_elements = driver.find_elements(By.CSS_SELECTOR, \"p > a\")\n",
    "\n",
    "# Get the country names\n",
    "countries = [el.text for el in country_elements if el.text.strip() != \"\"]\n",
    "\n",
    "# Show first few\n",
    "print(countries[:10])\n"
   ]
  },
  {
   "cell_type": "code",
   "execution_count": 19,
   "id": "ff203a8e-6934-4d0a-ace8-159828cbd46b",
   "metadata": {},
   "outputs": [],
   "source": [
    "with open(\"countries_list.txt\", \"w\", encoding=\"utf-8\") as f:\n",
    "    for country in countries:\n",
    "        f.write(country + \"\\n\")\n"
   ]
  }
 ],
 "metadata": {
  "kernelspec": {
   "display_name": "Python [conda env:20th_century]",
   "language": "python",
   "name": "20th_century"
  },
  "language_info": {
   "codemirror_mode": {
    "name": "ipython",
    "version": 3
   },
   "file_extension": ".py",
   "mimetype": "text/x-python",
   "name": "python",
   "nbconvert_exporter": "python",
   "pygments_lexer": "ipython3",
   "version": "3.13.2"
  }
 },
 "nbformat": 4,
 "nbformat_minor": 5
}
